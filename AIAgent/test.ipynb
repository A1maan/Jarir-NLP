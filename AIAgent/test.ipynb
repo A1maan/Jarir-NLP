{
 "cells": [
  {
   "cell_type": "code",
   "execution_count": 20,
   "id": "8378ea46",
   "metadata": {},
   "outputs": [
    {
     "name": "stdout",
     "output_type": "stream",
     "text": [
      "dict_keys(['gaming', 'laptop', 'tablet', 'twoin1_laptop', 'desktops'])\n"
     ]
    }
   ],
   "source": [
    "GAMING_CSV_PATH = \"../Jarir-scraper/jarir_gaming_pcs.csv\"\n",
    "LAPTOP_CSV_PATH = \"../Jarir-scraper/jarir_laptops.csv\"\n",
    "TABLET_CSV_PATH = \"../Jarir-scraper/jarir_tablets.csv\"\n",
    "twoin1_CSV_PATH = \"../Jarir-scraper/jarir_twoin1_laptops.csv\"\n",
    "DESKTOPS_CSV_PATH = \"../Jarir-scraper/jarir_desktops.csv\"\n",
    "\n",
    "\n",
    "csv_paths = [GAMING_CSV_PATH, LAPTOP_CSV_PATH, TABLET_CSV_PATH , twoin1_CSV_PATH , DESKTOPS_CSV_PATH]\n",
    "\n",
    "import pandas as pd\n",
    "from pathlib import Path\n",
    "from typing import Dict, List\n",
    "\n",
    "def build_product_type_first_map(csv_paths: List[str]) -> Dict[str, Dict[str, List[str]]]:\n",
    "    \"\"\"\n",
    "    Read each CSV at the given file paths (each must have 'brand' and 'model' cols),\n",
    "    and merge into one dict mapping:\n",
    "\n",
    "        product_type → { brand → sorted list of unique models }.\n",
    "\n",
    "    product_type will be one of:\n",
    "      \"gaming\", \"laptop\", \"tablet\", \"twoin1\", \"desktops\"\n",
    "    \"\"\"\n",
    "    nested_map: Dict[str, Dict[str, List[str]]] = {}\n",
    "\n",
    "    for path in csv_paths:\n",
    "        # 1) derive normalized product_type\n",
    "        stem = Path(path).stem.lower()            # e.g. \"jarir_gaming_pcs\"\n",
    "        if stem.startswith(\"jarir_\"):\n",
    "            stem = stem[len(\"jarir_\"):]           # → \"gaming_pcs\"\n",
    "        stem = stem.replace(\"_pcs\", \"\")           # → \"gaming\"\n",
    "        # singularize where needed:\n",
    "        if stem.endswith(\"s\") and stem not in (\"desktops\",):\n",
    "            stem = stem[:-1]                      # \"laptops\"→\"laptop\", \"tablets\"→\"tablet\"\n",
    "        product_type = stem                       # now one of gaming, laptop, tablet, twoin1, desktops\n",
    "\n",
    "        # 2) read & group\n",
    "        df = pd.read_csv(path, usecols=[\"brand\", \"model\"])\n",
    "        brand_map: Dict[str, List[str]] = {}\n",
    "        for brand in df[\"brand\"].dropna().unique():\n",
    "            models = (\n",
    "                df.loc[df[\"brand\"] == brand, \"model\"]\n",
    "                  .dropna()\n",
    "                  .unique()\n",
    "                  .tolist()\n",
    "            )\n",
    "            brand_map[brand] = sorted(models)\n",
    "\n",
    "        nested_map[product_type] = brand_map\n",
    "\n",
    "    return nested_map\n",
    "\n",
    "product_type_map = build_product_type_first_map(csv_paths)\n",
    "print(product_type_map.keys())\n",
    "def retrieve_information_about_product_type(product_type: str) -> Dict[str, List[str]]:\n",
    "    \"\"\"\n",
    "    These are the available product_type [gaming, laptop, tablet , twoin1 , desktops]\n",
    "    Given a product type, returns a dict mapping each brand\n",
    "    to the list of models available under that product_type.\n",
    "    \"\"\"\n",
    "    return product_type_map.get(product_type, {})"
   ]
  },
  {
   "cell_type": "code",
   "execution_count": null,
   "id": "de075803",
   "metadata": {},
   "outputs": [
    {
     "name": "stdout",
     "output_type": "stream",
     "text": [
      "{'Microsoft': ['Surface'], 'Lenovo': ['IdeaPad 3', 'IdeaPad Pro 5', 'IdeaPad Slim 3', 'IdeaPad Slim 5', 'ThinkBook 14', 'ThinkBook 14 G8', 'ThinkBook 16 G7', 'ThinkBook 16 G8', 'ThinkBook 16p', 'ThinkPad X9 14', 'ThinkPad X9 15', 'Yoga Pro 7', 'Yoga Pro 7 Aura Edition', 'Yoga Pro 9', 'Yoga Slim 6', 'Yoga Slim 7', 'Yoga Slim 7 Aura Edition', 'Yoga Slim 7i'], 'Acer': ['Aspire 3', 'Aspire 5', 'Aspire Go', 'Aspire Lite', 'Swift'], 'Huawei': ['MateBook', 'MateBook D', 'MateBook X Pro'], 'Asus': ['ExpertBook', 'ProArt', 'V16', 'Vivobook', 'Vivobook 15', 'Vivobook Go', 'Vivobook Pro 15', 'Vivobook S', 'Zenbook', 'Zenbook DUO'], 'Apple': ['MacBook Air', 'MacBook Air 13', 'MacBook Air 13 M1', 'MacBook Air 15 M2', 'MacBook Pro', 'MacBook Pro 13', 'MacBook Pro 13 M1', 'MacBook Pro 13 M2', 'MacBook Pro 14 M1', 'MacBook Pro 14 M2 Max', 'MacBook Pro 16 M1'], 'HP': ['EliteBook 840', 'Notebook', 'OmniBook', 'Pavilion', 'Pavilion Plus', 'Victus'], 'Honor': ['MagicBook Pro 14'], 'MSI': ['Modern', 'Modern 14 F1MG', 'Prestige']}\n"
     ]
    }
   ],
   "source": []
  },
  {
   "cell_type": "code",
   "execution_count": null,
   "id": "85888090",
   "metadata": {},
   "outputs": [],
   "source": []
  },
  {
   "cell_type": "code",
   "execution_count": null,
   "id": "e55909d3",
   "metadata": {},
   "outputs": [],
   "source": []
  }
 ],
 "metadata": {
  "kernelspec": {
   "display_name": "env (3.12.8)",
   "language": "python",
   "name": "python3"
  },
  "language_info": {
   "codemirror_mode": {
    "name": "ipython",
    "version": 3
   },
   "file_extension": ".py",
   "mimetype": "text/x-python",
   "name": "python",
   "nbconvert_exporter": "python",
   "pygments_lexer": "ipython3",
   "version": "3.12.8"
  }
 },
 "nbformat": 4,
 "nbformat_minor": 5
}
