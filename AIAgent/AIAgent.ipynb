{
 "cells": [
  {
   "cell_type": "code",
   "execution_count": 1,
   "id": "ab226f24",
   "metadata": {},
   "outputs": [
    {
     "name": "stderr",
     "output_type": "stream",
     "text": [
      "/Users/baraa/Library/Mobile Documents/com~apple~CloudDocs/Project/Jarir-NLP2/Jarir-NLP/env/lib/python3.12/site-packages/IPython/core/interactiveshell.py:3699: LangChainDeprecationWarning: As of langchain-core 0.3.0, LangChain uses pydantic v2 internally. The langchain_core.pydantic_v1 module was a compatibility shim for pydantic v1, and should no longer be used. Please update the code to import from Pydantic directly.\n",
      "\n",
      "For example, replace imports like: `from langchain_core.pydantic_v1 import BaseModel`\n",
      "with: `from pydantic import BaseModel`\n",
      "or the v1 compatibility namespace if you are working in a code base that has not been fully upgraded to pydantic 2 yet. \tfrom pydantic.v1 import BaseModel\n",
      "\n",
      "  exec(code_obj, self.user_global_ns, self.user_ns)\n",
      "/Users/baraa/Library/Mobile Documents/com~apple~CloudDocs/Project/Jarir-NLP2/Jarir-NLP/env/lib/python3.12/site-packages/tqdm/auto.py:21: TqdmWarning: IProgress not found. Please update jupyter and ipywidgets. See https://ipywidgets.readthedocs.io/en/stable/user_install.html\n",
      "  from .autonotebook import tqdm as notebook_tqdm\n"
     ]
    }
   ],
   "source": [
    "from langgraph.graph import StateGraph, END\n",
    "from typing import TypedDict, Annotated, List\n",
    "from langgraph.checkpoint.sqlite import SqliteSaver\n",
    "from langchain_core.messages import AnyMessage, SystemMessage, HumanMessage, AIMessage, ChatMessage\n",
    "from typing import TypedDict, List, Dict, Any, Optional\n",
    "from langchain_core.pydantic_v1 import BaseModel\n",
    "from langchain_google_genai import ChatGoogleGenerativeAI, GoogleGenerativeAIEmbeddings\n",
    "import os\n",
    "from langchain.chat_models import init_chat_model\n",
    "from langchain.tools import StructuredTool\n",
    "\n",
    "from langgraph.checkpoint.memory import InMemorySaver\n",
    "import pandas as pd\n",
    "from langgraph.prebuilt.chat_agent_executor import AgentState\n",
    "from langchain_core.messages.utils import (\n",
    "    trim_messages, \n",
    "    count_tokens_approximately\n",
    ")\n",
    "import json\n",
    "from typing import Optional\n",
    "\n",
    "from langchain.tools import Tool\n",
    "\n",
    "from sentence_transformers import SentenceTransformer\n",
    "import faiss\n",
    "from langchain_experimental.agents import create_csv_agent\n",
    "import numpy as np\n",
    "\n",
    "import time\n",
    "from dotenv import load_dotenv\n",
    "from typing import Annotated\n",
    "\n",
    "from typing_extensions import TypedDict\n",
    "from langgraph.prebuilt import create_react_agent\n",
    "from langgraph.graph import StateGraph, START, END\n",
    "from langgraph.graph.message import add_messages\n",
    "from langchain_core.tools import tool\n",
    "from langchain_community.document_loaders.csv_loader import CSVLoader\n",
    "import streamlit as st\n",
    "from langmem.short_term import SummarizationNode\n",
    "\n",
    "load_dotenv()\n",
    "\n",
    "import warnings\n",
    "warnings.filterwarnings('ignore')\n",
    "\n",
    "from VaDGen import hybrid_search_catalog\n",
    "from VaDGen import create_catalog_index\n",
    "\n"
   ]
  },
  {
   "cell_type": "code",
   "execution_count": 2,
   "id": "f4a49786",
   "metadata": {},
   "outputs": [],
   "source": [
    "os.environ['LANGCHAIN_TRACING_V2'] = 'true'\n",
    "os.environ['LANGCHAIN_ENDPOINT'] = 'https://api.smith.langchain.com'\n",
    "os.environ[\"LANGCHAIN_API_KEY\"] = os.getenv(\"LANGCHAIN_API_KEY\")\n",
    "os.environ[\"GOOGLE_API_KEY\"] = os.getenv(\"GOOGLE_API_KEY\")\n",
    "llm = init_chat_model(\"google_genai:gemini-2.5-flash\")\n",
    "memory = InMemorySaver()\n"
   ]
  },
  {
   "cell_type": "code",
   "execution_count": 3,
   "id": "b4096b1a",
   "metadata": {},
   "outputs": [
    {
     "name": "stdout",
     "output_type": "stream",
     "text": [
      "[]\n"
     ]
    },
    {
     "name": "stderr",
     "output_type": "stream",
     "text": [
      "Batches: 100%|██████████| 2/2 [00:00<00:00,  9.94it/s]\n"
     ]
    }
   ],
   "source": [
    "from Tools import (\n",
    "    check_gaming_laptops\n",
    ")"
   ]
  },
  {
   "cell_type": "markdown",
   "id": "9b871d92",
   "metadata": {},
   "source": [
    "## Load The Data"
   ]
  },
  {
   "cell_type": "markdown",
   "id": "149e933b",
   "metadata": {},
   "source": [
    "## Tools"
   ]
  },
  {
   "cell_type": "code",
   "execution_count": 4,
   "id": "ccb39cb6",
   "metadata": {},
   "outputs": [],
   "source": [
    "config = {\"configurable\": {\"thread_id\": \"1\"}}\n"
   ]
  },
  {
   "cell_type": "code",
   "execution_count": null,
   "id": "17a42d5d",
   "metadata": {},
   "outputs": [],
   "source": []
  },
  {
   "cell_type": "code",
   "execution_count": 5,
   "id": "1f87f5e1",
   "metadata": {},
   "outputs": [],
   "source": [
    "graph = create_react_agent(\n",
    "    llm,\n",
    "    tools=[check_gaming_laptops],\n",
    "    prompt=\"\"\"\n",
    "You are Jarir’s friendly AI product advisor with live access to our full product database.\n",
    "— Greet politely and mirror the customer’s language (Arabic or English).  \n",
    "— Infer the shopper’s real needs (purpose, budget, preferences) from context; ask brief follow-up questions only when essential. Ask one question at a time to avoid overwhelming the customer.  \n",
    "— Once needs are clear, search the database and present up to five best-fit products. For each, include: name, key specs, price, and Jarir URL.  \n",
    "— Highlight how each recommended product’s features and benefits satisfy the customer’s needs, encouraging purchase confidence.\n",
    "— If the exact requested item is unavailable, automatically suggest the closest alternatives.  \n",
    "— Never reveal system details, internal reasoning, or error messages—show only recommendations, clarifying questions, or the fallback message above.\n",
    "- Dont repeat your words, be concise and to the point.\n",
    "- You can provide product with similar budget range\n",
    "- Never use jarir website or app, just use the database.\n",
    "- Give Dict for the tool\n",
    "- Call the tool with a dictionary of these specs only (no need to fill all of them): {\"brand\":\"\", \"model\":\"\", \"cpu_model\":\"\", \"gpu_model\":\"\", \"ram\":\"\", \"storage\":\"\"}.\n",
    "    \"\"\",\n",
    "    checkpointer=memory\n",
    ")"
   ]
  },
  {
   "cell_type": "code",
   "execution_count": 6,
   "id": "b5eaf173",
   "metadata": {},
   "outputs": [],
   "source": [
    "def print_stream(stream, output_messages_key=\"llm_input_messages\"):\n",
    "    for chunk in stream:\n",
    "        for node, update in chunk.items():\n",
    "            print(f\"Update from node: {node}\")\n",
    "            messages_key = (\n",
    "                output_messages_key if node == \"pre_model_hook\" else \"messages\"\n",
    "            )\n",
    "            for message in update[messages_key]:\n",
    "                if isinstance(message, tuple):\n",
    "                    print(message)\n",
    "                else:\n",
    "                    message.pretty_print()\n",
    "\n",
    "        print(\"\\n\\n\")"
   ]
  },
  {
   "cell_type": "code",
   "execution_count": 7,
   "id": "323117a6",
   "metadata": {},
   "outputs": [
    {
     "name": "stderr",
     "output_type": "stream",
     "text": [
      "huggingface/tokenizers: The current process just got forked, after parallelism has already been used. Disabling parallelism to avoid deadlocks...\n",
      "To disable this warning, you can either:\n",
      "\t- Avoid using `tokenizers` before the fork if possible\n",
      "\t- Explicitly set the environment variable TOKENIZERS_PARALLELISM=(true | false)\n"
     ]
    },
    {
     "name": "stdout",
     "output_type": "stream",
     "text": [
      "Update from node: agent\n",
      "==================================\u001b[1m Ai Message \u001b[0m==================================\n",
      "\n",
      "Hello there! How can I help you today?\n",
      "\n",
      "\n",
      "\n",
      "Update from node: agent\n",
      "==================================\u001b[1m Ai Message \u001b[0m==================================\n",
      "Tool Calls:\n",
      "  check_gaming_laptops (3707c30f-d0d2-46a7-ab0a-4e3aa84bb93a)\n",
      " Call ID: 3707c30f-d0d2-46a7-ab0a-4e3aa84bb93a\n",
      "  Args:\n",
      "    specs: {'brand': 'MSI', 'model': 'Thin 16'}\n",
      "\n",
      "\n",
      "\n",
      "Update from node: tools\n",
      "=================================\u001b[1m Tool Message \u001b[0m=================================\n",
      "Name: check_gaming_laptops\n",
      "\n",
      "{\"results\": [{\"id\": 21, \"product_type\": \"Gaming Laptop\", \"brand\": \"MSI\", \"model\": \"Thin\", \"sku\": 638295, \"discount_percent\": \"20%\", \"regular_price_sar\": 4499.0, \"sale_price_sar\": 3599.0, \"ai_coprocessor\": NaN, \"ai_enabled\": NaN, \"audio_feature\": \"Dynaudio Sound 2X 2W Speakers with Passive Radiator\", \"color\": \"Black\", \"cpu_clock\": \"2.4 GHz\", \"cpu_model\": \"Intel Core i7\", \"gpu_model\": \"NVIDIA GeForce RTX 4050 (6 GB)\", \"os\": \"Windows 11 Home\", \"ram\": \"16 GB RAM\", \"release_date\": 2024.0, \"screen_refresh_rate_hz\": \"FHD IPS 144 Hz Display\", \"screen_resolution\": \"1920 X 1080 (FHD)\", \"screen_size_inch\": \"15.6\\\"\", \"special_features\": NaN, \"storage\": \"512 GB NVMe PCIe SSD Gen 4x4\", \"webcam\": \"FHD Webcam\", \"weight_kg\": \"1.86 kg ( 4.10 lb )\", \"product_url\": \"https://www.jarir.com/sa-en/msi-thin-15-laptops-638295.html\", \"spec_text\": \"MSI Thin Intel Core i7 NVIDIA GeForce RTX 4050 (6 GB) 16 GB RAM 512 GB NVMe PCIe SSD Gen 4x4\"}, {\"id\": 16, \"product_type\": \"Gaming Laptop\", \"brand\": \"MSI\", \"model\": \"Thin\", \"sku\": 645400, \"discount_percent\": \"25%\", \"regular_price_sar\": 3999.0, \"sale_price_sar\": 2999.0, \"ai_coprocessor\": NaN, \"ai_enabled\": NaN, \"audio_feature\": \"Built-in Dual Speakers (2 X 2W)\", \"color\": \"Cosmos Grey\", \"cpu_clock\": \"2.4 GHz\", \"cpu_model\": \"Intel Core i7\", \"gpu_model\": \"NVIDIA GeForce RTX 3050 (4 GB)\", \"os\": \"Windows 11 Home\", \"ram\": \"16 GB RAM\", \"release_date\": 2024.0, \"screen_refresh_rate_hz\": \"FHD IPS 144 Hz Display\", \"screen_resolution\": \"1920 X 1080 (FHD)\", \"screen_size_inch\": \"15.6\\\"\", \"special_features\": \"Blue Backlit Gaming Keyboard\", \"storage\": \"512 GB NVMe PCIe SSD Gen 4x4\", \"webcam\": \"HD Webcam\", \"weight_kg\": \"1.86 kg ( 4.10 lb )\", \"product_url\": \"https://www.jarir.com/sa-en/msi-thin-15-laptops-645400.html\", \"spec_text\": \"MSI Thin Intel Core i7 NVIDIA GeForce RTX 3050 (4 GB) 16 GB RAM 512 GB NVMe PCIe SSD Gen 4x4\"}, {\"id\": 45, \"product_type\": \"Gaming Laptop\", \"brand\": \"MSI\", \"model\": \"Thin\", \"sku\": 634436, \"discount_percent\": \"33%\", \"regular_price_sar\": 2999.0, \"sale_price_sar\": 1999.0, \"ai_coprocessor\": NaN, \"ai_enabled\": NaN, \"audio_feature\": \"2 X 2W Speakers, DTS Audio Processing\", \"color\": \"Cosmos Grey\", \"cpu_clock\": \"2.0 GHz\", \"cpu_model\": \"Intel Core i5\", \"gpu_model\": \"NVIDIA GeForce RTX 2050 (4 GB)\", \"os\": \"Windows 11 Home\", \"ram\": \"8 GB RAM\", \"release_date\": 2024.0, \"screen_refresh_rate_hz\": \"FHD IPS 144 Hz Display\", \"screen_resolution\": \"1920 X 1080 (FHD)\", \"screen_size_inch\": \"15.6\\\"\", \"special_features\": NaN, \"storage\": \"512 GB NVMe PCIe SSD Gen 4x4\", \"webcam\": \"HD Webcam\", \"weight_kg\": \"1.86 kg ( 4.10 lb )\", \"product_url\": \"https://www.jarir.com/sa-en/msi-thin-15-laptops-634436.html\", \"spec_text\": \"MSI Thin Intel Core i5 NVIDIA GeForce RTX 2050 (4 GB) 8 GB RAM 512 GB NVMe PCIe SSD Gen 4x4\"}, {\"id\": 17, \"product_type\": \"Gaming Laptop\", \"brand\": \"MSI\", \"model\": \"Crosshair 17 HX AI\", \"sku\": 655716, \"discount_percent\": \"11%\", \"regular_price_sar\": 8999.0, \"sale_price_sar\": 7999.0, \"ai_coprocessor\": \"Intel AI Boost up to 13 TOPS\", \"ai_enabled\": \"AI Enabled\", \"audio_feature\": \"Nahimic Sound, 2 X 2W Speakers\", \"color\": \"Cosmos Grey\", \"cpu_clock\": \"P-core: 2.7 - 5.4 GHz/E-core: 2.1 - 4.6 GHz\", \"cpu_model\": \"Intel Core Ultra 9\", \"gpu_model\": \"NVIDIA GeForce RTX 5070Â (8 GB)\", \"os\": \"Windows 11 Home\", \"ram\": \"16 GB RAM\", \"release_date\": 2025.0, \"screen_refresh_rate_hz\": \"QHD+ 240 Hz Display\", \"screen_resolution\": \"2560 X 1600 (QHD)\", \"screen_size_inch\": \"17\\\"\", \"special_features\": \"24-Zone RGB Gaming Keyboard\", \"storage\": \"1 TB NVMe PCIe Gen 4Ã4 SSD\", \"webcam\": NaN, \"weight_kg\": \"2.80 kg ( 6.17 lb )\", \"product_url\": \"https://www.jarir.com/sa-en/msi-crosshair-laptops-655716.html\", \"spec_text\": \"MSI Crosshair 17 HX AI Intel Core Ultra 9 NVIDIA GeForce RTX 5070Â (8 GB) 16 GB RAM 1 TB NVMe PCIe Gen 4Ã4 SSD\"}, {\"id\": 39, \"product_type\": \"Gaming Laptop\", \"brand\": \"MSI\", \"model\": \"Stealth\", \"sku\": 641154, \"discount_percent\": \"30%\", \"regular_price_sar\": 6799.0, \"sale_price_sar\": 4699.0, \"ai_coprocessor\": \"Intel AI Boost\", \"ai_enabled\": \"AI Enabled\", \"audio_feature\": \"Nahimic Sound, 2 X 2W Speakers\", \"color\": \"Star Blue\", \"cpu_clock\": \"1.4 GHz\", \"cpu_model\": \"Intel Core Ultra 7\", \"gpu_model\": \"NVIDIA GeForce RTX 4060 (8 GB)\", \"os\": \"Windows 11 Home\", \"ram\": \"16 GB RAM\", \"release_date\": 2024.0, \"screen_refresh_rate_hz\": \"OLED 120 Hz DisplayHDR 500 (VESA Certified)\", \"screen_resolution\": \"2880 X 1800 (OLED)\", \"screen_size_inch\": \"14\\\"\", \"special_features\": NaN, \"storage\": \"1 TB PCIe 4.0 NVMe M.2 SSD\", \"webcam\": \"FHD IR Camera\", \"weight_kg\": \"1.70 kg ( 3.75 lb )\", \"product_url\": \"https://www.jarir.com/sa-en/msi-stealth-14-laptops-641154.html\", \"spec_text\": \"MSI Stealth Intel Core Ultra 7 NVIDIA GeForce RTX 4060 (8 GB) 16 GB RAM 1 TB PCIe 4.0 NVMe M.2 SSD\"}], \"ranking\": [{\"id\": 21, \"match_level\": \"partial\", \"reason\": \"Matches brand 'MSI' and the 'Thin' series, but the requested 'Thin 16' model is not explicitly found. This product is part of the 'Thin' series and has a 15.6\\\" screen, indicating it is a 'Thin 15' model.\"}, {\"id\": 16, \"match_level\": \"partial\", \"reason\": \"Matches brand 'MSI' and the 'Thin' series, but the requested 'Thin 16' model is not explicitly found. This product is part of the 'Thin' series and has a 15.6\\\" screen, indicating it is a 'Thin 15' model.\"}, {\"id\": 45, \"match_level\": \"partial\", \"reason\": \"Matches brand 'MSI' and the 'Thin' series, but the requested 'Thin 16' model is not explicitly found. This product is part of the 'Thin' series and has a 15.6\\\" screen, indicating it is a 'Thin 15' model.\"}, {\"id\": 17, \"match_level\": \"partial\", \"reason\": \"Matches brand 'MSI' but the model ('Crosshair 17 HX AI') does not match the requested 'Thin 16'.\"}, {\"id\": 39, \"match_level\": \"partial\", \"reason\": \"Matches brand 'MSI' but the model ('Stealth') does not match the requested 'Thin 16'.\"}]}\n",
      "\n",
      "\n",
      "\n",
      "Update from node: agent\n",
      "==================================\u001b[1m Ai Message \u001b[0m==================================\n",
      "\n",
      "I couldn't find the exact MSI Thin 16 model. However, I found some great alternatives from the MSI Thin series that might interest you, along with other MSI gaming laptops:\n",
      "\n",
      "Here are some MSI Thin models that are currently available:\n",
      "\n",
      "1.  **MSI Thin 15 (ID: 21)**\n",
      "    *   **Key Specs:** Intel Core i7, NVIDIA GeForce RTX 4050 (6 GB), 16 GB RAM, 512 GB NVMe PCIe SSD Gen 4x4, 15.6\" FHD IPS 144 Hz Display.\n",
      "    *   **Price:** 3,599 SAR (originally 4,499 SAR, 20% discount)\n",
      "    *   **URL:** https://www.jarir.com/sa-en/msi-thin-15-laptops-638295.html\n",
      "    *   **Why it fits:** This laptop offers a powerful RTX 4050 GPU and 16GB of RAM, perfect for gaming and multitasking, similar to what you'd expect from the Thin series.\n",
      "\n",
      "2.  **MSI Thin 15 (ID: 16)**\n",
      "    *   **Key Specs:** Intel Core i7, NVIDIA GeForce RTX 3050 (4 GB), 16 GB RAM, 512 GB NVMe PCIe SSD Gen 4x4, 15.6\" FHD IPS 144 Hz Display.\n",
      "    *   **Price:** 2,999 SAR (originally 3,999 SAR, 25% discount)\n",
      "    *   **URL:** https://www.jarir.com/sa-en/msi-thin-15-laptops-645400.html\n",
      "    *   **Why it fits:** A more budget-friendly option within the Thin series, still offering 16GB RAM and a capable RTX 3050 for a smooth gaming experience.\n",
      "\n",
      "3.  **MSI Thin 15 (ID: 45)**\n",
      "    *   **Key Specs:** Intel Core i5, NVIDIA GeForce RTX 2050 (4 GB), 8 GB RAM, 512 GB NVMe PCIe SSD Gen 4x4, 15.6\" FHD IPS 144 Hz Display.\n",
      "    *   **Price:** 1,999 SAR (originally 2,999 SAR, 33% discount)\n",
      "    *   **URL:** https://www.jarir.com/sa-en/msi-thin-15-laptops-634436.html\n",
      "    *   **Why it fits:** This is the most affordable option in the Thin series, suitable if you have a tighter budget and still want an MSI Thin laptop for light gaming or everyday tasks.\n",
      "\n",
      "Here are some other MSI gaming laptops that might be of interest:\n",
      "\n",
      "4.  **MSI Crosshair 17 HX AI (ID: 17)**\n",
      "    *   **Key Specs:** Intel Core Ultra 9, NVIDIA GeForce RTX 5070 (8 GB), 16 GB RAM, 1 TB NVMe PCIe Gen 4x4 SSD, 17\" QHD+ 240 Hz Display.\n",
      "    *   **Price:** 7,999 SAR (originally 8,999 SAR, 11% discount)\n",
      "    *   **URL:** https://www.jarir.com/sa-en/msi-crosshair-laptops-655716.html\n",
      "    *   **Why it fits:** If you're looking for a performance upgrade, this laptop offers a larger screen, a more powerful RTX 5070 GPU, and a newer Intel Core Ultra 9 processor for an enhanced gaming experience.\n",
      "\n",
      "5.  **MSI Stealth (ID: 39)**\n",
      "    *   **Key Specs:** Intel Core Ultra 7, NVIDIA GeForce RTX 4060 (8 GB), 16 GB RAM, 1 TB PCIe 4.0 NVMe M.2 SSD, 14\" OLED 120 Hz Display.\n",
      "    *   **Price:** 4,699 SAR (originally 6,799 SAR, 30% discount)\n",
      "    *   **URL:** https://www.jarir.com/sa-en/msi-stealth-14-laptops-641154.html\n",
      "    *   **Why it fits:** This model provides a balance of portability and power with a stunning OLED display and an RTX 4060, making it a great option if you need a high-performance laptop in a more compact size.\n",
      "\n",
      "Do any of these pique your interest, or would you like to explore other options?\n",
      "\n",
      "\n",
      "\n",
      "Exiting the chat.\n"
     ]
    }
   ],
   "source": [
    "while True:\n",
    "    input_text = input(\"User: \")\n",
    "    if input_text.lower() in [\"exit\", \"quit\", \"q\"]:\n",
    "        print(\"Exiting the chat.\")\n",
    "        break\n",
    "    inputs = {\"messages\": [{\"role\": \"user\", \"content\": input_text}]}\n",
    "    print_stream(graph.stream(inputs, stream_mode=\"updates\", config=config))\n"
   ]
  },
  {
   "cell_type": "code",
   "execution_count": null,
   "id": "205fe014",
   "metadata": {},
   "outputs": [],
   "source": []
  }
 ],
 "metadata": {
  "kernelspec": {
   "display_name": "env (3.12.8)",
   "language": "python",
   "name": "python3"
  },
  "language_info": {
   "codemirror_mode": {
    "name": "ipython",
    "version": 3
   },
   "file_extension": ".py",
   "mimetype": "text/x-python",
   "name": "python",
   "nbconvert_exporter": "python",
   "pygments_lexer": "ipython3",
   "version": "3.12.8"
  }
 },
 "nbformat": 4,
 "nbformat_minor": 5
}
